{
  "nbformat": 4,
  "nbformat_minor": 0,
  "metadata": {
    "colab": {
      "name": "최현태HW102.ipynb",
      "provenance": []
    },
    "kernelspec": {
      "name": "python3",
      "display_name": "Python 3"
    },
    "language_info": {
      "name": "python"
    }
  },
  "cells": [
    {
      "cell_type": "code",
      "metadata": {
        "colab": {
          "resources": {
            "http://localhost:8080/nbextensions/google.colab/files.js": {
              "data": "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",
              "ok": true,
              "headers": [
                [
                  "content-type",
                  "application/javascript"
                ]
              ],
              "status": 200,
              "status_text": ""
            }
          },
          "base_uri": "https://localhost:8080/",
          "height": 109
        },
        "id": "ZtOEphhrVgMd",
        "outputId": "0ea9ce3c-efc0-4a17-ff07-83720b28681b"
      },
      "source": [
        "from google.colab import files\n",
        "files.upload()"
      ],
      "execution_count": null,
      "outputs": [
        {
          "output_type": "display_data",
          "data": {
            "text/html": [
              "\n",
              "     <input type=\"file\" id=\"files-03288394-020a-423e-be84-e52ec6574992\" name=\"files[]\" multiple disabled\n",
              "        style=\"border:none\" />\n",
              "     <output id=\"result-03288394-020a-423e-be84-e52ec6574992\">\n",
              "      Upload widget is only available when the cell has been executed in the\n",
              "      current browser session. Please rerun this cell to enable.\n",
              "      </output>\n",
              "      <script src=\"/nbextensions/google.colab/files.js\"></script> "
            ],
            "text/plain": [
              "<IPython.core.display.HTML object>"
            ]
          },
          "metadata": {
            "tags": []
          }
        },
        {
          "output_type": "stream",
          "text": [
            "Saving kospi200_20090601_20090710.csv to kospi200_20090601_20090710.csv\n"
          ],
          "name": "stdout"
        },
        {
          "output_type": "execute_result",
          "data": {
            "text/plain": [
              "{'kospi200_20090601_20090710.csv': b'\\xc0\\xcf\\xc0\\xda,\\xc1\\xbe\\xb0\\xa1,\\xb4\\xeb\\xba\\xf1,\\xb5\\xee\\xb6\\xf4\\xb7\\xfc,\\xbd\\xc3\\xb0\\xa1,\\xb0\\xed\\xb0\\xa1,\\xc0\\xfa\\xb0\\xa1,\\xb0\\xc5\\xb7\\xa1\\xb7\\xae,\\xb0\\xc5\\xb7\\xa1\\xb4\\xeb\\xb1\\xdd,\\xbb\\xf3\\xc0\\xe5\\xbd\\xc3\\xb0\\xa1\\xc3\\xd1\\xbe\\xd7\\n\"2009/07/10\",\"184.56\",\"-0.16\",\"-0.09\",\"185.27\",\"185.43\",\"182.84\",\"121806.0\",\"3654547.0\",\"6.4262035E8\"\\n\"2009/07/09\",\"184.72\",\"-0.01\",\"-0.01\",\"184.26\",\"186.51\",\"183.94\",\"147954.0\",\"4720080.0\",\"6.43629513E8\"\\n\"2009/07/08\",\"184.73\",\"-0.38\",\"-0.21\",\"183.86\",\"184.73\",\"182.28\",\"152507.0\",\"4179328.0\",\"6.43918886E8\"\\n\"2009/07/07\",\"185.11\",\"0.61\",\"0.33\",\"185.18\",\"186.02\",\"184.20\",\"163708.0\",\"4110109.0\",\"6.45156637E8\"\\n\"2009/07/06\",\"184.50\",\"1.58\",\"0.86\",\"182.78\",\"185.04\",\"182.36\",\"140128.0\",\"3748011.0\",\"6.42849362E8\"\\n\"2009/07/03\",\"182.92\",\"1.07\",\"0.59\",\"179.11\",\"182.92\",\"179.02\",\"139037.0\",\"3355239.0\",\"6.37968002E8\"\\n\"2009/07/02\",\"181.85\",\"-0.10\",\"-0.05\",\"182.92\",\"182.96\",\"180.80\",\"163024.0\",\"3813533.0\",\"6.3419248E8\"\\n\"2009/07/01\",\"181.95\",\"2.96\",\"1.65\",\"178.53\",\"182.50\",\"177.75\",\"162551.0\",\"4167307.0\",\"6.34480439E8\"\\n\"2009/06/30\",\"178.99\",\"0.18\",\"0.10\",\"180.65\",\"181.65\",\"178.69\",\"184365.0\",\"3872781.0\",\"6.24522098E8\"\\n\"2009/06/29\",\"178.81\",\"-0.47\",\"-0.26\",\"179.92\",\"181.42\",\"178.40\",\"151341.0\",\"3212268.0\",\"6.23581584E8\"\\n\"2009/06/26\",\"179.28\",\"0.42\",\"0.23\",\"180.04\",\"180.41\",\"178.45\",\"145231.0\",\"3984605.0\",\"6.25761926E8\"\\n\"2009/06/25\",\"178.86\",\"3.78\",\"2.16\",\"175.50\",\"180.46\",\"175.50\",\"188813.0\",\"4302987.0\",\"6.24837502E8\"\\n\"2009/06/24\",\"175.08\",\"0.76\",\"0.44\",\"174.96\",\"176.00\",\"173.22\",\"166005.0\",\"3645179.0\",\"6.11718937E8\"\\n\"2009/06/23\",\"174.32\",\"-4.70\",\"-2.63\",\"175.17\",\"175.81\",\"173.52\",\"216749.0\",\"4077385.0\",\"6.09420973E8\"\\n\"2009/06/22\",\"179.02\",\"2.39\",\"1.35\",\"176.46\",\"179.11\",\"176.12\",\"124457.0\",\"3429218.0\",\"6.27313063E8\"\\n\"2009/06/19\",\"176.63\",\"1.09\",\"0.62\",\"176.96\",\"177.38\",\"174.94\",\"149326.0\",\"3394472.0\",\"6.1943963E8\"\\n\"2009/06/18\",\"175.54\",\"-2.26\",\"-1.27\",\"177.56\",\"178.34\",\"174.90\",\"134104.0\",\"3538589.0\",\"6.15957748E8\"\\n\"2009/06/17\",\"177.80\",\"-1.08\",\"-0.60\",\"177.90\",\"178.65\",\"176.85\",\"143869.0\",\"3625019.0\",\"6.23502299E8\"\\n\"2009/06/16\",\"178.88\",\"-1.78\",\"-0.99\",\"178.27\",\"180.32\",\"177.58\",\"151070.0\",\"3585369.0\",\"6.27260437E8\"\\n\"2009/06/15\",\"180.66\",\"-2.03\",\"-1.11\",\"182.59\",\"182.64\",\"178.97\",\"136812.0\",\"3865872.0\",\"6.33815178E8\"\\n\"2009/06/12\",\"182.69\",\"1.26\",\"0.69\",\"182.74\",\"183.72\",\"181.23\",\"144430.0\",\"4163888.0\",\"6.41359788E8\"\\n\"2009/06/11\",\"181.43\",\"0.52\",\"0.29\",\"180.49\",\"183.84\",\"179.90\",\"193481.0\",\"5809853.0\",\"6.27031509E8\"\\n\"2009/06/10\",\"180.91\",\"6.00\",\"3.43\",\"176.01\",\"180.96\",\"175.52\",\"184735.0\",\"4729206.0\",\"6.24941442E8\"\\n\"2009/06/09\",\"174.91\",\"-2.76\",\"-1.55\",\"179.49\",\"180.00\",\"174.87\",\"173017.0\",\"4665716.0\",\"6.04551299E8\"\\n\"2009/06/08\",\"177.67\",\"-0.10\",\"-0.06\",\"177.65\",\"180.00\",\"176.87\",\"176062.0\",\"4226010.0\",\"6.14281494E8\"\\n\"2009/06/05\",\"177.77\",\"2.02\",\"1.15\",\"177.43\",\"177.77\",\"175.12\",\"175532.0\",\"4706980.0\",\"6.14723104E8\"\\n\"2009/06/04\",\"175.75\",\"-4.56\",\"-2.53\",\"179.55\",\"179.75\",\"175.35\",\"230558.0\",\"5425332.0\",\"6.07236207E8\"\\n\"2009/06/03\",\"180.31\",\"-0.16\",\"-0.09\",\"181.78\",\"182.25\",\"178.93\",\"276109.0\",\"5647738.0\",\"6.23493742E8\"\\n\"2009/06/02\",\"180.47\",\"-0.43\",\"-0.24\",\"183.64\",\"183.71\",\"180.30\",\"224413.0\",\"6205222.0\",\"6.23506344E8\"\\n\"2009/06/01\",\"180.90\",\"2.20\",\"1.23\",\"178.42\",\"180.90\",\"176.92\",\"189986.0\",\"5002028.0\",\"6.24475114E8\"'}"
            ]
          },
          "metadata": {
            "tags": []
          },
          "execution_count": 22
        }
      ]
    },
    {
      "cell_type": "code",
      "metadata": {
        "colab": {
          "base_uri": "https://localhost:8080/"
        },
        "id": "pW7IJ6T8VrVW",
        "outputId": "784cf322-f800-4c2c-a952-a61ac05ed670"
      },
      "source": [
        "import pandas as pd\n",
        "dfKS200 = pd.read_csv('kospi200_20090601_20090710.csv', header=0, encoding= 'unicode_escape', \n",
        "                      names=['일자', '종가', '대비', '등락율','시가', '고가', '저가', '거래량', '거래대금', '상장시가총액'], index_col='일자')\n",
        "dfKS200['종가'].describe()"
      ],
      "execution_count": null,
      "outputs": [
        {
          "output_type": "execute_result",
          "data": {
            "text/plain": [
              "count     30.000000\n",
              "mean     179.900667\n",
              "std        3.174971\n",
              "min      174.320000\n",
              "25%      177.777500\n",
              "50%      179.795000\n",
              "75%      181.925000\n",
              "max      185.110000\n",
              "Name: 종가, dtype: float64"
            ]
          },
          "metadata": {
            "tags": []
          },
          "execution_count": 23
        }
      ]
    },
    {
      "cell_type": "code",
      "metadata": {
        "colab": {
          "base_uri": "https://localhost:8080/",
          "height": 350
        },
        "id": "9QbE6b1AWY7t",
        "outputId": "3a8bc677-5ec1-4169-f4d2-ca865320152c"
      },
      "source": [
        "import matplotlib.pyplot as plt\n",
        "plt.hist(dfKS200['종가'], density=True, alpha=0.5)"
      ],
      "execution_count": null,
      "outputs": [
        {
          "output_type": "execute_result",
          "data": {
            "text/plain": [
              "(array([0.09267841, 0.0617856 , 0.0308928 , 0.09267841, 0.18535681,\n",
              "        0.09267841, 0.12357121, 0.09267841, 0.        , 0.15446401]),\n",
              " array([174.32 , 175.399, 176.478, 177.557, 178.636, 179.715, 180.794,\n",
              "        181.873, 182.952, 184.031, 185.11 ]),\n",
              " <a list of 10 Patch objects>)"
            ]
          },
          "metadata": {
            "tags": []
          },
          "execution_count": 24
        },
        {
          "output_type": "display_data",
          "data": {
            "image/png": "[encoded data removed]",
            "text/plain": [
              "<Figure size 432x288 with 1 Axes>"
            ]
          },
          "metadata": {
            "tags": [],
            "needs_background": "light"
          }
        }
      ]
    },
    {
      "cell_type": "code",
      "metadata": {
        "colab": {
          "base_uri": "https://localhost:8080/"
        },
        "id": "Ru_XEyOrYpu8",
        "outputId": "ee3ed47c-d07d-424b-e0ed-d8d898e8a1a7"
      },
      "source": [
        "dfKS200['등락율'].describe()"
      ],
      "execution_count": null,
      "outputs": [
        {
          "output_type": "execute_result",
          "data": {
            "text/plain": [
              "count    30.000000\n",
              "mean      0.114333\n",
              "std       1.258263\n",
              "min      -2.630000\n",
              "25%      -0.255000\n",
              "50%       0.045000\n",
              "75%       0.672500\n",
              "max       3.430000\n",
              "Name: 등락율, dtype: float64"
            ]
          },
          "metadata": {
            "tags": []
          },
          "execution_count": 25
        }
      ]
    },
    {
      "cell_type": "code",
      "metadata": {
        "id": "oXY4Bd54ZSqK"
      },
      "source": [
        "import numpy as np\n",
        "dfKS200['log_return'] = np.log(dfKS200['종가']) - np.log(dfKS200['종가'].shift(1))"
      ],
      "execution_count": null,
      "outputs": []
    },
    {
      "cell_type": "code",
      "metadata": {
        "colab": {
          "base_uri": "https://localhost:8080/"
        },
        "id": "X5j3jzytZjmk",
        "outputId": "b25d48d8-a3e6-4cc0-80a7-09e767372346"
      },
      "source": [
        "dfKS200.log_return.describe()"
      ],
      "execution_count": null,
      "outputs": [
        {
          "output_type": "execute_result",
          "data": {
            "text/plain": [
              "count    29.000000\n",
              "mean     -0.000691\n",
              "std       0.012608\n",
              "min      -0.033728\n",
              "25%      -0.006190\n",
              "50%       0.000054\n",
              "75%       0.002625\n",
              "max       0.026605\n",
              "Name: log_return, dtype: float64"
            ]
          },
          "metadata": {
            "tags": []
          },
          "execution_count": 27
        }
      ]
    },
    {
      "cell_type": "code",
      "metadata": {
        "id": "SQ6xBbkKZoDD"
      },
      "source": [
        "r = (1+dfKS200.log_return.describe()['mean']) ** 27"
      ],
      "execution_count": null,
      "outputs": []
    },
    {
      "cell_type": "code",
      "metadata": {
        "id": "ig4wbtAFZv1V"
      },
      "source": [
        "K = 426.36 * r"
      ],
      "execution_count": null,
      "outputs": []
    },
    {
      "cell_type": "code",
      "metadata": {
        "colab": {
          "base_uri": "https://localhost:8080/"
        },
        "id": "jKs9sENXaYP0",
        "outputId": "17088a2f-2536-41d4-d25d-8c04b33c2910"
      },
      "source": [
        "K"
      ],
      "execution_count": null,
      "outputs": [
        {
          "output_type": "execute_result",
          "data": {
            "text/plain": [
              "418.47987050718865"
            ]
          },
          "metadata": {
            "tags": []
          },
          "execution_count": 30
        }
      ]
    },
    {
      "cell_type": "code",
      "metadata": {
        "colab": {
          "base_uri": "https://localhost:8080/"
        },
        "id": "91fwSEeWq8dS",
        "outputId": "5b12f4f8-4dde-49fe-bbf5-38f58252b063"
      },
      "source": [
        "r"
      ],
      "execution_count": null,
      "outputs": [
        {
          "output_type": "execute_result",
          "data": {
            "text/plain": [
              "0.9815176623210166"
            ]
          },
          "metadata": {
            "tags": []
          },
          "execution_count": 31
        }
      ]
    },
    {
      "cell_type": "code",
      "metadata": {
        "id": "Fk4qlcKkaZaq"
      },
      "source": [
        "import seaborn"
      ],
      "execution_count": null,
      "outputs": []
    },
    {
      "cell_type": "code",
      "metadata": {
        "colab": {
          "base_uri": "https://localhost:8080/"
        },
        "id": "9NxJ0URrrlOv",
        "outputId": "34946d1f-40f9-4dd8-c938-bde56d59773d"
      },
      "source": [
        "7.81 / 426.36 + 1"
      ],
      "execution_count": null,
      "outputs": [
        {
          "output_type": "execute_result",
          "data": {
            "text/plain": [
              "1.0183178534571724"
            ]
          },
          "metadata": {
            "tags": []
          },
          "execution_count": 39
        }
      ]
    },
    {
      "cell_type": "code",
      "metadata": {
        "colab": {
          "base_uri": "https://localhost:8080/"
        },
        "id": "2xQQ9t3Arnui",
        "outputId": "6f7a71b8-7778-4c8f-8b8c-90ab13b849db"
      },
      "source": [
        "1 - 9.60 / 426.36"
      ],
      "execution_count": null,
      "outputs": [
        {
          "output_type": "execute_result",
          "data": {
            "text/plain": [
              "0.9774838164931045"
            ]
          },
          "metadata": {
            "tags": []
          },
          "execution_count": 40
        }
      ]
    },
    {
      "cell_type": "code",
      "metadata": {
        "id": "79Y2l3RearNE"
      },
      "source": [
        "spot_price = 426.36\n",
        "# Short put\n",
        "strike_price_short_put = spot_price * r\n",
        "premium_short_put = 9.60\n",
        "# Short call\n",
        "strike_price_short_call = strike_price_short_put\n",
        "premium_short_call = 7.81\n",
        "# Stock price range at expiration of the put\n",
        "sT = np.arange(300, 500, 1)"
      ],
      "execution_count": null,
      "outputs": []
    },
    {
      "cell_type": "code",
      "metadata": {
        "colab": {
          "base_uri": "https://localhost:8080/",
          "height": 248
        },
        "id": "g5X87dh7bl_I",
        "outputId": "60e20a15-74d6-42fe-86e9-b2f201e57b6c"
      },
      "source": [
        "def short_call_payoff(sT, strike_price, premium):\n",
        "    return np.where(sT > strike_price, strike_price - sT, 0) + premium\n",
        "\n",
        "payoff_short_call = short_call_payoff (sT, strike_price_short_call, premium_short_call)\n",
        "fig, ax = plt.subplots()\n",
        "ax.spines['top'].set_visible(False) # Top border removed \n",
        "ax.spines['right'].set_visible(False) # Right border removed\n",
        "ax.spines['bottom'].set_position('zero') # Sets the X-axis in the center\n",
        "ax.plot(sT, payoff_short_call,label='Short Call',color='r')\n",
        "plt.xlabel('Stock Price')\n",
        "plt.ylabel('Profit and loss')\n",
        "plt.legend()\n",
        "plt.show()"
      ],
      "execution_count": null,
      "outputs": [
        {
          "output_type": "display_data",
          "data": {
            "image/png": "[encoded data removed]",
            "text/plain": [
              "<Figure size 432x288 with 1 Axes>"
            ]
          },
          "metadata": {
            "tags": [],
            "needs_background": "light"
          }
        }
      ]
    },
    {
      "cell_type": "code",
      "metadata": {
        "colab": {
          "base_uri": "https://localhost:8080/",
          "height": 248
        },
        "id": "IXv8UDQMcZeU",
        "outputId": "fc5dfbe1-ceea-4977-b795-7cb1424d85df"
      },
      "source": [
        "def short_put_payoff(sT, strike_price, premium):\n",
        "    return np.where(sT < strike_price, sT - strike_price, 0) + premium \n",
        "\n",
        "payoff_short_put = short_put_payoff(sT, strike_price_short_put, premium_short_put)\n",
        "# Plot\n",
        "fig, ax = plt.subplots()\n",
        "ax.spines['top'].set_visible(False) # Top border removed \n",
        "ax.spines['right'].set_visible(False) # Right border removed\n",
        "ax.spines['bottom'].set_position('zero') # Sets the X-axis in the center\n",
        "ax.plot(sT,payoff_short_put,label='Short Put',color='g')\n",
        "plt.xlabel('Stock Price')\n",
        "plt.ylabel('Profit and loss')\n",
        "plt.legend()\n",
        "plt.show()"
      ],
      "execution_count": null,
      "outputs": [
        {
          "output_type": "display_data",
          "data": {
            "image/png": "[encoded data removed]",
            "text/plain": [
              "<Figure size 432x288 with 1 Axes>"
            ]
          },
          "metadata": {
            "tags": [],
            "needs_background": "light"
          }
        }
      ]
    },
    {
      "cell_type": "code",
      "metadata": {
        "colab": {
          "base_uri": "https://localhost:8080/",
          "height": 282
        },
        "id": "gYcF4BFJc5hH",
        "outputId": "c461e384-743a-4cb7-d92b-10cdd482e82e"
      },
      "source": [
        "payoff_straddle = payoff_short_call + payoff_short_put\n",
        "\n",
        "print (f'Max Profit: {payoff_straddle.max()}')\n",
        "print (\"Max Loss:\", \"Unlimited\")\n",
        "# Plot\n",
        "fig, ax = plt.subplots()\n",
        "ax.spines['top'].set_visible(False) # Top border removed \n",
        "ax.spines['right'].set_visible(False) # Right border removed\n",
        "ax.spines['bottom'].set_position('zero') # Sets the X-axis in the center\n",
        "\n",
        "ax.plot(sT,payoff_short_call,'--',label='Short Call',color='r')\n",
        "ax.plot(sT,payoff_short_put,'--',label='Short Put',color='g')\n",
        "\n",
        "ax.plot(sT,payoff_straddle,label='Straddle')\n",
        "plt.xlabel('Stock Price', ha='left')\n",
        "plt.ylabel('Profit and loss')\n",
        "plt.legend()\n",
        "plt.show()"
      ],
      "execution_count": null,
      "outputs": [
        {
          "output_type": "stream",
          "text": [
            "Max Profit: 16.93012949281135\n",
            "Max Loss: Unlimited\n"
          ],
          "name": "stdout"
        },
        {
          "output_type": "display_data",
          "data": {
            "image/png": "[encoded data removed]",
            "text/plain": [
              "<Figure size 432x288 with 1 Axes>"
            ]
          },
          "metadata": {
            "tags": [],
            "needs_background": "light"
          }
        }
      ]
    },
    {
      "cell_type": "code",
      "metadata": {
        "id": "YDkTR_DGdGbR"
      },
      "source": [
        "from scipy.stats import norm\n",
        "stddev = 0.012608\n",
        "mean = 0.9815176623210166"
      ],
      "execution_count": null,
      "outputs": []
    },
    {
      "cell_type": "code",
      "metadata": {
        "colab": {
          "base_uri": "https://localhost:8080/",
          "height": 265
        },
        "id": "AXQSUYkgmy47",
        "outputId": "2e02daac-9d56-4caa-d236-4b24348d8d5c"
      },
      "source": [
        "import numpy as np\n",
        "import matplotlib.pyplot as plt\n",
        "x=np.linspace(0.5, 1.5,1000)\n",
        "plt.plot(x, norm.pdf(x, mean, stddev))\n",
        "plt.show()\n",
        "# pl.plot(x,dist.cdf(x))"
      ],
      "execution_count": null,
      "outputs": [
        {
          "output_type": "display_data",
          "data": {
            "image/png": "[encoded data removed]",
            "text/plain": [
              "<Figure size 432x288 with 1 Axes>"
            ]
          },
          "metadata": {
            "tags": [],
            "needs_background": "light"
          }
        }
      ]
    },
    {
      "cell_type": "code",
      "metadata": {
        "colab": {
          "base_uri": "https://localhost:8080/"
        },
        "id": "De8p6QppnK8E",
        "outputId": "592e550b-17b3-430a-9e77-549c25215b72"
      },
      "source": [
        "norm.cdf(1.0183178534571724, mean, stddev) - norm.cdf(0.9774838164931045, mean, stddev)"
      ],
      "execution_count": null,
      "outputs": [
        {
          "output_type": "execute_result",
          "data": {
            "text/plain": [
              "0.6237374391082874"
            ]
          },
          "metadata": {
            "tags": []
          },
          "execution_count": 41
        }
      ]
    },
    {
      "cell_type": "code",
      "metadata": {
        "id": "yh0W-09nphjk"
      },
      "source": [
        ""
      ],
      "execution_count": null,
      "outputs": []
    }
  ]
}